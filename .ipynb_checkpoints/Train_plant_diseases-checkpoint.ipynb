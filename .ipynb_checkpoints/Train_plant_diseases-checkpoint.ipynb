{
 "cells": [
  {
   "cell_type": "code",
   "execution_count": 1,
   "id": "8b95acfc-e042-4875-a3e4-63a4be13cd12",
   "metadata": {},
   "outputs": [],
   "source": [
    "import pandas as pd\n",
    "import tensorflow as tf\n",
    "import matplotlib.pyplot as plt\n",
    "import seaborn as sns "
   ]
  },
  {
   "cell_type": "code",
   "execution_count": 2,
   "id": "250fbbac-ffce-45ba-9338-a71978c7cd03",
   "metadata": {},
   "outputs": [
    {
     "name": "stdout",
     "output_type": "stream",
     "text": [
      "Found 70295 files belonging to 38 classes.\n"
     ]
    }
   ],
   "source": [
    "training_set = tf.keras.utils.image_dataset_from_directory(\n",
    "    'train',\n",
    "    labels=\"inferred\",\n",
    "    label_mode=\"categorical\",\n",
    "    class_names=None,\n",
    "    color_mode=\"rgb\",\n",
    "    batch_size=32,\n",
    "    image_size=(128, 128),\n",
    "    shuffle=True,\n",
    "    seed=None,\n",
    "    validation_split=None,\n",
    "    subset=None,\n",
    "    interpolation=\"bilinear\",\n",
    "    follow_links=False,\n",
    "    crop_to_aspect_ratio=False,\n",
    ")"
   ]
  },
  {
   "cell_type": "code",
   "execution_count": 3,
   "id": "fe6fbae7",
   "metadata": {},
   "outputs": [
    {
     "name": "stdout",
     "output_type": "stream",
     "text": [
      "Found 17572 files belonging to 38 classes.\n"
     ]
    }
   ],
   "source": [
    "validation_set = tf.keras.utils.image_dataset_from_directory(\n",
    "    'valid',\n",
    "    labels=\"inferred\",\n",
    "    label_mode=\"categorical\",\n",
    "    class_names=None,\n",
    "    color_mode=\"rgb\",\n",
    "    batch_size=32,\n",
    "    image_size=(128, 128),\n",
    "    shuffle=True,\n",
    "    seed=None,\n",
    "    validation_split=None,\n",
    "    subset=None,\n",
    "    interpolation=\"bilinear\",\n",
    "    follow_links=False,\n",
    "    crop_to_aspect_ratio=False,\n",
    ")"
   ]
  },
  {
   "cell_type": "code",
   "execution_count": 4,
   "id": "8ea5ab42-a6ce-4007-8b69-72dafc201d9c",
   "metadata": {},
   "outputs": [
    {
     "data": {
      "text/plain": [
       "<BatchDataset element_spec=(TensorSpec(shape=(None, 128, 128, 3), dtype=tf.float32, name=None), TensorSpec(shape=(None, 38), dtype=tf.float32, name=None))>"
      ]
     },
     "execution_count": 4,
     "metadata": {},
     "output_type": "execute_result"
    }
   ],
   "source": [
    "training_set"
   ]
  },
  {
   "cell_type": "code",
   "execution_count": 5,
   "id": "be884c35-3663-47be-b47d-39cff50f2b64",
   "metadata": {},
   "outputs": [
    {
     "name": "stdout",
     "output_type": "stream",
     "text": [
      "tf.Tensor(\n",
      "[[[[ 82.5   75.    70.5 ]\n",
      "   [ 80.5   76.    68.5 ]\n",
      "   [ 69.25  64.75  57.25]\n",
      "   ...\n",
      "   [132.   121.   125.  ]\n",
      "   [130.75 119.75 123.75]\n",
      "   [128.75 117.75 121.75]]\n",
      "\n",
      "  [[ 84.    75.    78.  ]\n",
      "   [ 83.25  74.25  76.75]\n",
      "   [ 68.5   63.    62.5 ]\n",
      "   ...\n",
      "   [127.25 116.25 120.25]\n",
      "   [127.   116.   120.  ]\n",
      "   [132.75 121.75 125.75]]\n",
      "\n",
      "  [[ 84.    74.    82.  ]\n",
      "   [ 90.25  81.75  87.25]\n",
      "   [ 77.25  69.    73.75]\n",
      "   ...\n",
      "   [132.75 121.75 125.75]\n",
      "   [130.75 119.75 123.75]\n",
      "   [129.5  118.5  122.5 ]]\n",
      "\n",
      "  ...\n",
      "\n",
      "  [[154.   148.   152.  ]\n",
      "   [151.75 145.75 149.75]\n",
      "   [155.25 149.25 153.25]\n",
      "   ...\n",
      "   [155.5  149.5  153.5 ]\n",
      "   [159.75 153.75 157.75]\n",
      "   [151.75 145.75 149.75]]\n",
      "\n",
      "  [[147.25 141.25 145.25]\n",
      "   [141.25 135.25 139.25]\n",
      "   [150.   144.   148.  ]\n",
      "   ...\n",
      "   [160.75 154.75 158.75]\n",
      "   [159.25 153.25 157.25]\n",
      "   [157.25 151.25 155.25]]\n",
      "\n",
      "  [[149.5  143.5  147.5 ]\n",
      "   [148.5  142.5  146.5 ]\n",
      "   [149.75 143.75 147.75]\n",
      "   ...\n",
      "   [159.5  153.5  157.5 ]\n",
      "   [162.25 156.25 160.25]\n",
      "   [156.75 150.75 154.75]]]\n",
      "\n",
      "\n",
      " [[[165.   142.   126.  ]\n",
      "   [145.75 122.75 106.75]\n",
      "   [150.5  127.5  111.5 ]\n",
      "   ...\n",
      "   [135.5  112.5   94.5 ]\n",
      "   [145.25 122.25 104.25]\n",
      "   [161.25 138.25 120.25]]\n",
      "\n",
      "  [[140.5  117.5  101.5 ]\n",
      "   [147.75 124.75 108.75]\n",
      "   [150.5  127.5  111.5 ]\n",
      "   ...\n",
      "   [163.   140.   122.  ]\n",
      "   [150.   127.   109.  ]\n",
      "   [165.25 142.25 124.25]]\n",
      "\n",
      "  [[155.75 132.75 116.75]\n",
      "   [144.75 121.75 105.75]\n",
      "   [153.75 130.75 114.75]\n",
      "   ...\n",
      "   [152.25 129.25 111.25]\n",
      "   [147.5  124.5  106.5 ]\n",
      "   [148.25 125.25 107.25]]\n",
      "\n",
      "  ...\n",
      "\n",
      "  [[172.75 162.75 153.75]\n",
      "   [177.   167.   158.  ]\n",
      "   [180.5  170.5  161.5 ]\n",
      "   ...\n",
      "   [186.75 176.75 166.75]\n",
      "   [189.75 179.75 169.75]\n",
      "   [189.75 179.75 169.75]]\n",
      "\n",
      "  [[183.5  173.5  164.5 ]\n",
      "   [178.5  168.5  159.5 ]\n",
      "   [170.5  160.5  151.5 ]\n",
      "   ...\n",
      "   [187.25 177.25 167.25]\n",
      "   [188.25 178.25 168.25]\n",
      "   [186.75 176.75 166.75]]\n",
      "\n",
      "  [[177.   167.   158.  ]\n",
      "   [181.25 171.25 162.25]\n",
      "   [186.25 176.25 167.25]\n",
      "   ...\n",
      "   [193.75 183.75 173.75]\n",
      "   [193.25 183.25 173.25]\n",
      "   [195.25 185.25 175.25]]]\n",
      "\n",
      "\n",
      " [[[140.5  130.5  129.5 ]\n",
      "   [130.5  120.5  119.5 ]\n",
      "   [135.5  125.5  124.5 ]\n",
      "   ...\n",
      "   [159.   150.   153.  ]\n",
      "   [160.75 151.75 154.75]\n",
      "   [150.   141.   144.  ]]\n",
      "\n",
      "  [[147.25 137.25 136.25]\n",
      "   [133.75 123.75 122.75]\n",
      "   [130.25 120.25 119.25]\n",
      "   ...\n",
      "   [149.75 140.75 143.75]\n",
      "   [146.5  137.5  140.5 ]\n",
      "   [153.   144.   147.  ]]\n",
      "\n",
      "  [[133.75 123.75 122.75]\n",
      "   [152.75 142.75 141.75]\n",
      "   [151.5  141.5  140.5 ]\n",
      "   ...\n",
      "   [160.5  151.5  154.5 ]\n",
      "   [156.75 147.75 150.75]\n",
      "   [153.75 144.75 147.75]]\n",
      "\n",
      "  ...\n",
      "\n",
      "  [[134.75 125.75 128.75]\n",
      "   [134.   125.   128.  ]\n",
      "   [130.25 121.25 124.25]\n",
      "   ...\n",
      "   [158.5  149.5  152.5 ]\n",
      "   [148.25 139.25 142.25]\n",
      "   [141.75 132.75 135.75]]\n",
      "\n",
      "  [[131.25 122.25 125.25]\n",
      "   [133.5  124.5  127.5 ]\n",
      "   [123.5  114.5  117.5 ]\n",
      "   ...\n",
      "   [154.75 145.75 148.75]\n",
      "   [140.5  131.5  134.5 ]\n",
      "   [154.75 145.75 148.75]]\n",
      "\n",
      "  [[153.5  144.5  147.5 ]\n",
      "   [149.   140.   143.  ]\n",
      "   [146.75 137.75 140.75]\n",
      "   ...\n",
      "   [149.5  140.5  143.5 ]\n",
      "   [145.25 136.25 139.25]\n",
      "   [158.   149.   152.  ]]]\n",
      "\n",
      "\n",
      " ...\n",
      "\n",
      "\n",
      " [[[ 74.    68.5   70.  ]\n",
      "   [147.25 141.25 143.25]\n",
      "   [147.75 141.75 143.75]\n",
      "   ...\n",
      "   [139.   132.   139.  ]\n",
      "   [139.25 132.25 139.25]\n",
      "   [140.25 133.25 140.25]]\n",
      "\n",
      "  [[ 74.    68.5   70.  ]\n",
      "   [146.5  140.5  142.5 ]\n",
      "   [146.25 140.25 142.25]\n",
      "   ...\n",
      "   [138.   131.   138.  ]\n",
      "   [139.5  132.5  139.5 ]\n",
      "   [141.5  134.5  141.5 ]]\n",
      "\n",
      "  [[ 73.25  68.    69.25]\n",
      "   [145.25 139.25 141.25]\n",
      "   [144.5  138.5  140.5 ]\n",
      "   ...\n",
      "   [138.5  131.5  138.5 ]\n",
      "   [139.25 132.25 139.25]\n",
      "   [140.75 133.75 140.75]]\n",
      "\n",
      "  ...\n",
      "\n",
      "  [[ 68.75  61.25  62.75]\n",
      "   [130.5  121.5  124.5 ]\n",
      "   [131.75 122.75 125.75]\n",
      "   ...\n",
      "   [122.25 112.25 120.25]\n",
      "   [123.75 113.75 121.75]\n",
      "   [126.   116.   124.  ]]\n",
      "\n",
      "  [[ 68.75  61.25  62.75]\n",
      "   [130.   121.   124.  ]\n",
      "   [130.5  121.5  124.5 ]\n",
      "   ...\n",
      "   [120.5  110.5  118.5 ]\n",
      "   [122.25 112.25 120.25]\n",
      "   [124.5  114.5  122.5 ]]\n",
      "\n",
      "  [[ 70.5   62.25  64.5 ]\n",
      "   [130.75 121.75 124.75]\n",
      "   [128.75 119.75 122.75]\n",
      "   ...\n",
      "   [121.   111.   119.  ]\n",
      "   [122.5  112.5  120.5 ]\n",
      "   [124.75 114.75 122.75]]]\n",
      "\n",
      "\n",
      " [[[147.25 136.25 134.25]\n",
      "   [155.5  144.5  142.5 ]\n",
      "   [149.25 138.25 136.25]\n",
      "   ...\n",
      "   [163.75 155.75 153.75]\n",
      "   [160.5  152.5  150.5 ]\n",
      "   [163.   155.   153.  ]]\n",
      "\n",
      "  [[157.75 146.75 144.75]\n",
      "   [155.25 144.25 142.25]\n",
      "   [153.25 142.25 140.25]\n",
      "   ...\n",
      "   [154.   146.   144.  ]\n",
      "   [158.25 150.25 148.25]\n",
      "   [160.   152.   150.  ]]\n",
      "\n",
      "  [[158.   147.   145.  ]\n",
      "   [146.   135.   133.  ]\n",
      "   [153.   142.   140.  ]\n",
      "   ...\n",
      "   [151.5  143.5  141.5 ]\n",
      "   [156.5  148.5  146.5 ]\n",
      "   [158.75 150.75 148.75]]\n",
      "\n",
      "  ...\n",
      "\n",
      "  [[148.25 142.25 152.25]\n",
      "   [152.25 146.25 156.25]\n",
      "   [148.5  142.5  152.5 ]\n",
      "   ...\n",
      "   [151.5  146.5  153.5 ]\n",
      "   [158.75 153.75 160.75]\n",
      "   [182.75 177.75 184.75]]\n",
      "\n",
      "  [[144.   138.   148.  ]\n",
      "   [145.25 139.25 149.25]\n",
      "   [147.   141.   151.  ]\n",
      "   ...\n",
      "   [159.25 154.25 161.25]\n",
      "   [158.75 153.75 160.75]\n",
      "   [148.5  143.5  150.5 ]]\n",
      "\n",
      "  [[148.25 142.25 152.25]\n",
      "   [142.75 136.75 146.75]\n",
      "   [147.5  141.5  151.5 ]\n",
      "   ...\n",
      "   [146.25 141.25 148.25]\n",
      "   [167.5  162.5  169.5 ]\n",
      "   [166.25 161.25 168.25]]]\n",
      "\n",
      "\n",
      " [[[152.5  151.5  147.5 ]\n",
      "   [156.75 155.75 151.75]\n",
      "   [155.25 154.25 150.25]\n",
      "   ...\n",
      "   [140.75 138.75 139.75]\n",
      "   [145.25 143.25 144.25]\n",
      "   [138.75 136.75 137.75]]\n",
      "\n",
      "  [[150.5  149.5  145.5 ]\n",
      "   [154.   153.   149.  ]\n",
      "   [152.5  151.5  147.5 ]\n",
      "   ...\n",
      "   [143.   141.   142.  ]\n",
      "   [146.25 144.25 145.25]\n",
      "   [143.75 141.75 142.75]]\n",
      "\n",
      "  [[151.75 150.75 146.75]\n",
      "   [153.5  152.5  148.5 ]\n",
      "   [153.5  152.5  148.5 ]\n",
      "   ...\n",
      "   [144.25 142.25 143.25]\n",
      "   [145.5  143.5  144.5 ]\n",
      "   [143.5  141.5  142.5 ]]\n",
      "\n",
      "  ...\n",
      "\n",
      "  [[114.75 109.75 105.75]\n",
      "   [116.   111.   107.  ]\n",
      "   [115.   110.   106.  ]\n",
      "   ...\n",
      "   [106.25 101.25 106.25]\n",
      "   [105.25 100.25 106.25]\n",
      "   [113.   108.75 114.75]]\n",
      "\n",
      "  [[113.25 108.25 104.25]\n",
      "   [117.75 112.75 108.75]\n",
      "   [118.   113.   109.  ]\n",
      "   ...\n",
      "   [111.5  109.5  111.5 ]\n",
      "   [ 99.    97.5   99.25]\n",
      "   [111.75 111.25 113.  ]]\n",
      "\n",
      "  [[118.5  113.5  109.5 ]\n",
      "   [119.25 114.25 110.25]\n",
      "   [112.5  107.5  103.5 ]\n",
      "   ...\n",
      "   [111.75 110.75 107.75]\n",
      "   [108.75 109.75 104.25]\n",
      "   [107.75 110.   104.  ]]]], shape=(32, 128, 128, 3), dtype=float32) (32, 128, 128, 3)\n",
      "tf.Tensor(\n",
      "[[0. 0. 0. ... 0. 0. 0.]\n",
      " [0. 0. 0. ... 0. 0. 0.]\n",
      " [0. 0. 0. ... 0. 0. 0.]\n",
      " ...\n",
      " [1. 0. 0. ... 0. 0. 0.]\n",
      " [0. 0. 0. ... 0. 0. 0.]\n",
      " [0. 0. 0. ... 0. 0. 0.]], shape=(32, 38), dtype=float32) (32, 38)\n"
     ]
    }
   ],
   "source": [
    "for x,y in training_set:\n",
    "    print(x,x.shape)\n",
    "    print(y,y.shape)\n",
    "    break"
   ]
  },
  {
   "cell_type": "code",
   "execution_count": null,
   "id": "74828a4e-0018-48ce-90ff-19b79b3fda7e",
   "metadata": {
    "scrolled": true
   },
   "outputs": [],
   "source": []
  },
  {
   "cell_type": "markdown",
   "id": "b344f13f-2ce1-4afb-aa33-7f2849158387",
   "metadata": {},
   "source": [
    "### Bullding Model"
   ]
  },
  {
   "cell_type": "code",
   "execution_count": 7,
   "id": "2d037c2e-d9ea-44c0-bf25-01070b5bbbcd",
   "metadata": {},
   "outputs": [],
   "source": [
    "from tensorflow.keras.layers import Dense,Conv2D,MaxPool2D,Flatten,Dropout\n",
    "from tensorflow.keras.models import Sequential"
   ]
  },
  {
   "cell_type": "code",
   "execution_count": null,
   "id": "14fb5093-1806-45b9-a96c-4374f9b21d35",
   "metadata": {},
   "outputs": [],
   "source": []
  },
  {
   "cell_type": "code",
   "execution_count": 8,
   "id": "ca1517a7-3878-41db-babb-51d4cb241e8e",
   "metadata": {},
   "outputs": [],
   "source": [
    "model = Sequential()"
   ]
  },
  {
   "cell_type": "code",
   "execution_count": 9,
   "id": "249ef8e6-46b8-4527-a02e-76119f672c58",
   "metadata": {},
   "outputs": [],
   "source": [
    "##Building Convolutional layer"
   ]
  },
  {
   "cell_type": "code",
   "execution_count": 10,
   "id": "5f730e84-e517-4158-bfd3-37236f5300fc",
   "metadata": {},
   "outputs": [],
   "source": [
    "model.add(Conv2D(filters=32,kernel_size=3,padding='same',activation='relu',input_shape=[128,128,3]))\n",
    "model.add(Conv2D(filters=32,kernel_size=3,activation='relu'))\n",
    "model.add(MaxPool2D(pool_size=2,strides=2))\n"
   ]
  },
  {
   "cell_type": "code",
   "execution_count": 11,
   "id": "aa6395b2-982b-46cd-842b-d4cdb5c53017",
   "metadata": {},
   "outputs": [],
   "source": [
    "model.add(Conv2D(filters=64,kernel_size=3,padding='same',activation='relu'))\n",
    "model.add(Conv2D(filters=64,kernel_size=3,activation='relu'))\n",
    "model.add(MaxPool2D(pool_size=2,strides=2))\n"
   ]
  },
  {
   "cell_type": "code",
   "execution_count": 12,
   "id": "5c5c5572-b801-46a1-9f25-1d0accab0461",
   "metadata": {},
   "outputs": [],
   "source": [
    "model.add(Conv2D(filters=128,kernel_size=3,padding='same',activation='relu'))\n",
    "model.add(Conv2D(filters=128,kernel_size=3,activation='relu'))\n",
    "model.add(MaxPool2D(pool_size=2,strides=2))\n"
   ]
  },
  {
   "cell_type": "code",
   "execution_count": 13,
   "id": "3740dc68-70a1-4380-9823-aab23caf9bb0",
   "metadata": {},
   "outputs": [],
   "source": [
    "model.add(Conv2D(filters=256,kernel_size=3,padding='same',activation='relu'))\n",
    "model.add(Conv2D(filters=256,kernel_size=3,activation='relu'))\n",
    "model.add(MaxPool2D(pool_size=2,strides=2))\n"
   ]
  },
  {
   "cell_type": "code",
   "execution_count": 14,
   "id": "ad514889-b010-4fc0-bb98-9a07ea2e0cb7",
   "metadata": {},
   "outputs": [],
   "source": [
    "model.add(Conv2D(filters=512,kernel_size=3,padding='same',activation='relu'))\n",
    "model.add(Conv2D(filters=512,kernel_size=3,activation='relu'))\n",
    "model.add(MaxPool2D(pool_size=2,strides=2))\n"
   ]
  },
  {
   "cell_type": "code",
   "execution_count": 15,
   "id": "5a259059-3081-4bec-90f9-bc37630fb9ab",
   "metadata": {},
   "outputs": [],
   "source": [
    "model.add(Dropout(0.25))  ## to avoid overfitting\n"
   ]
  },
  {
   "cell_type": "code",
   "execution_count": 16,
   "id": "a8614252-5c9e-4182-aa4a-dfa36e0587d7",
   "metadata": {},
   "outputs": [],
   "source": [
    "model.add(Flatten())\n"
   ]
  },
  {
   "cell_type": "code",
   "execution_count": 17,
   "id": "27369f6f-3000-4210-8a80-951d71f342c0",
   "metadata": {},
   "outputs": [],
   "source": [
    "model.add(Dense(units=1500,activation='relu'))"
   ]
  },
  {
   "cell_type": "code",
   "execution_count": 18,
   "id": "85c7b54f-728a-4c8f-af74-07b1d9ba13a2",
   "metadata": {},
   "outputs": [],
   "source": [
    "model.add(Dropout(0.4))\n"
   ]
  },
  {
   "cell_type": "code",
   "execution_count": 19,
   "id": "7934e443-ebc5-4165-90f1-8dd224893adf",
   "metadata": {},
   "outputs": [],
   "source": [
    "#Output laye\n",
    "model.add(Dense(units=38,activation='softmax'))"
   ]
  },
  {
   "cell_type": "markdown",
   "id": "77987fb8-20fb-4fb1-9588-df293306eddd",
   "metadata": {},
   "source": [
    "### Compiling Model"
   ]
  },
  {
   "cell_type": "code",
   "execution_count": 20,
   "id": "8b82e586-2f01-45f7-919c-617b886a72de",
   "metadata": {},
   "outputs": [],
   "source": [
    "model.compile(optimizer=tf.keras.optimizers.legacy.Adam(\n",
    "    learning_rate=0.0001),loss='categorical_crossentropy',metrics=['accuracy'])"
   ]
  },
  {
   "cell_type": "code",
   "execution_count": 21,
   "id": "83cbe3ef-b023-4dfd-a63c-0e3cd6acc72b",
   "metadata": {},
   "outputs": [
    {
     "name": "stdout",
     "output_type": "stream",
     "text": [
      "Model: \"sequential\"\n",
      "_________________________________________________________________\n",
      " Layer (type)                Output Shape              Param #   \n",
      "=================================================================\n",
      " conv2d (Conv2D)             (None, 128, 128, 32)      896       \n",
      "                                                                 \n",
      " conv2d_1 (Conv2D)           (None, 126, 126, 32)      9248      \n",
      "                                                                 \n",
      " max_pooling2d (MaxPooling2D  (None, 63, 63, 32)       0         \n",
      " )                                                               \n",
      "                                                                 \n",
      " conv2d_2 (Conv2D)           (None, 63, 63, 64)        18496     \n",
      "                                                                 \n",
      " conv2d_3 (Conv2D)           (None, 61, 61, 64)        36928     \n",
      "                                                                 \n",
      " max_pooling2d_1 (MaxPooling  (None, 30, 30, 64)       0         \n",
      " 2D)                                                             \n",
      "                                                                 \n",
      " conv2d_4 (Conv2D)           (None, 30, 30, 128)       73856     \n",
      "                                                                 \n",
      " conv2d_5 (Conv2D)           (None, 28, 28, 128)       147584    \n",
      "                                                                 \n",
      " max_pooling2d_2 (MaxPooling  (None, 14, 14, 128)      0         \n",
      " 2D)                                                             \n",
      "                                                                 \n",
      " conv2d_6 (Conv2D)           (None, 14, 14, 256)       295168    \n",
      "                                                                 \n",
      " conv2d_7 (Conv2D)           (None, 12, 12, 256)       590080    \n",
      "                                                                 \n",
      " max_pooling2d_3 (MaxPooling  (None, 6, 6, 256)        0         \n",
      " 2D)                                                             \n",
      "                                                                 \n",
      " conv2d_8 (Conv2D)           (None, 6, 6, 512)         1180160   \n",
      "                                                                 \n",
      " conv2d_9 (Conv2D)           (None, 4, 4, 512)         2359808   \n",
      "                                                                 \n",
      " max_pooling2d_4 (MaxPooling  (None, 2, 2, 512)        0         \n",
      " 2D)                                                             \n",
      "                                                                 \n",
      " dropout (Dropout)           (None, 2, 2, 512)         0         \n",
      "                                                                 \n",
      " flatten (Flatten)           (None, 2048)              0         \n",
      "                                                                 \n",
      " dense (Dense)               (None, 1500)              3073500   \n",
      "                                                                 \n",
      " dropout_1 (Dropout)         (None, 1500)              0         \n",
      "                                                                 \n",
      " dense_1 (Dense)             (None, 38)                57038     \n",
      "                                                                 \n",
      "=================================================================\n",
      "Total params: 7,842,762\n",
      "Trainable params: 7,842,762\n",
      "Non-trainable params: 0\n",
      "_________________________________________________________________\n"
     ]
    }
   ],
   "source": [
    "model.summary()"
   ]
  },
  {
   "cell_type": "markdown",
   "id": "153cdbe7-1775-451b-8508-4a39f9a344bb",
   "metadata": {},
   "source": [
    "### Model Training"
   ]
  },
  {
   "cell_type": "code",
   "execution_count": null,
   "id": "3a559ac1-cde4-49b6-b9d1-b9325313bb1a",
   "metadata": {},
   "outputs": [
    {
     "name": "stdout",
     "output_type": "stream",
     "text": [
      "Epoch 1/2\n",
      "2197/2197 [==============================] - 2984s 1s/step - loss: 1.3582 - accuracy: 0.6006 - val_loss: 0.6238 - val_accuracy: 0.8043\n",
      "Epoch 2/2\n",
      " 529/2197 [======>.......................] - ETA: 11:55:49 - loss: 0.5524 - accuracy: 0.8286"
     ]
    }
   ],
   "source": [
    "training_history = model.fit(x=training_set,validation_data=validation_set,epochs=2)"
   ]
  },
  {
   "cell_type": "markdown",
   "id": "18c96332-3198-477b-9d7c-4fd0407c4ad7",
   "metadata": {},
   "source": [
    "## Model Evaluation"
   ]
  },
  {
   "cell_type": "code",
   "execution_count": null,
   "id": "f5f91327-76ac-4b83-9aaf-a2b1cd76098d",
   "metadata": {},
   "outputs": [],
   "source": [
    "#Model evaluation on training set\n",
    "train_loss,train_acc = model.evaluate(training_set)"
   ]
  },
  {
   "cell_type": "code",
   "execution_count": null,
   "id": "786b52ab-23fd-4a16-ba2e-0d4e8a9f78f2",
   "metadata": {},
   "outputs": [],
   "source": [
    "print(train_loss,train_acc)"
   ]
  },
  {
   "cell_type": "code",
   "execution_count": null,
   "id": "b2daf69d-c798-4c5a-8167-d8323b8478c0",
   "metadata": {},
   "outputs": [],
   "source": [
    "#modelon validation set\n",
    "val_loss,val_acc = model.evaluate(validation_set)"
   ]
  },
  {
   "cell_type": "code",
   "execution_count": null,
   "id": "7def7f08-b1c8-4099-a7ba-90679cc748a6",
   "metadata": {},
   "outputs": [],
   "source": [
    "print(val_loss,val_acc)"
   ]
  },
  {
   "cell_type": "markdown",
   "id": "3fbc1b94-2226-46d2-8a20-02fb07205b7a",
   "metadata": {},
   "source": [
    "## Saving Model"
   ]
  },
  {
   "cell_type": "code",
   "execution_count": null,
   "id": "5a3ea6d8-7159-4a1f-901e-b44229735f21",
   "metadata": {},
   "outputs": [],
   "source": [
    "model.save(\"trained_model.keras\")"
   ]
  },
  {
   "cell_type": "code",
   "execution_count": null,
   "id": "dc95dc1a-9a75-4dd5-b435-4c3952d2e30c",
   "metadata": {},
   "outputs": [],
   "source": [
    "training_history.history"
   ]
  },
  {
   "cell_type": "code",
   "execution_count": null,
   "id": "9db5c507-e018-4faa-a02c-72111f10d501",
   "metadata": {},
   "outputs": [],
   "source": [
    "#Recording History in json\n",
    "import json \n",
    "with open(\"training_hist.json\",\"w\") as f:\n",
    "    json.dump(training_history.history,f)"
   ]
  },
  {
   "cell_type": "code",
   "execution_count": null,
   "id": "97f979e7-2bbc-4a49-a725-5d59c913b1ed",
   "metadata": {},
   "outputs": [],
   "source": [
    "training_history.history['accuracy']"
   ]
  },
  {
   "cell_type": "markdown",
   "id": "61ba6230-dc02-4878-b54a-731e7add4257",
   "metadata": {},
   "source": [
    "### Accuracy Visualization"
   ]
  },
  {
   "cell_type": "code",
   "execution_count": null,
   "id": "4ec2c248-5468-4cc2-bd06-bd19d7a70f68",
   "metadata": {},
   "outputs": [],
   "source": [
    "epochs = [i for i in range (1,3)]\n",
    "plt.plot(epochs,training_history.history['accuracy'])"
   ]
  },
  {
   "cell_type": "code",
   "execution_count": null,
   "id": "3bfa3a1a-cf5f-435f-8eaa-b9b11b0aac00",
   "metadata": {},
   "outputs": [],
   "source": []
  },
  {
   "cell_type": "code",
   "execution_count": null,
   "id": "3896438b-5dc1-465d-80ec-29e5c9a6f4b8",
   "metadata": {},
   "outputs": [],
   "source": []
  }
 ],
 "metadata": {
  "kernelspec": {
   "display_name": "Python 3 (ipykernel)",
   "language": "python",
   "name": "python3"
  },
  "language_info": {
   "codemirror_mode": {
    "name": "ipython",
    "version": 3
   },
   "file_extension": ".py",
   "mimetype": "text/x-python",
   "name": "python",
   "nbconvert_exporter": "python",
   "pygments_lexer": "ipython3",
   "version": "3.11.5"
  }
 },
 "nbformat": 4,
 "nbformat_minor": 5
}
