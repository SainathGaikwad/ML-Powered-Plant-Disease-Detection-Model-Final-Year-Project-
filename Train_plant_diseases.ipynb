{
  "cells": [
    {
      "cell_type": "code",
      "execution_count": null,
      "id": "8b95acfc-e042-4875-a3e4-63a4be13cd12",
      "metadata": {
        "id": "8b95acfc-e042-4875-a3e4-63a4be13cd12"
      },
      "outputs": [],
      "source": [
        "import pandas as pd\n",
        "import tensorflow as tf\n",
        "import matplotlib.pyplot as plt\n",
        "import seaborn as sns"
      ]
    },
    {
      "cell_type": "code",
      "source": [
        "from google.colab import drive\n",
        "drive.mount('/content/drive')\n",
        "# train_path = '/content/drive/MyDrive/Dataset/test'"
      ],
      "metadata": {
        "colab": {
          "base_uri": "https://localhost:8080/"
        },
        "id": "L9xlnP6BNdWE",
        "outputId": "9300931c-a7af-4a29-f595-04926971f02d"
      },
      "id": "L9xlnP6BNdWE",
      "execution_count": null,
      "outputs": [
        {
          "output_type": "stream",
          "name": "stdout",
          "text": [
            "Mounted at /content/drive\n"
          ]
        }
      ]
    },
    {
      "cell_type": "code",
      "execution_count": null,
      "id": "250fbbac-ffce-45ba-9338-a71978c7cd03",
      "metadata": {
        "id": "250fbbac-ffce-45ba-9338-a71978c7cd03",
        "outputId": "f296c6cd-a952-4382-9469-b2a101eec97d",
        "colab": {
          "base_uri": "https://localhost:8080/"
        }
      },
      "outputs": [
        {
          "output_type": "stream",
          "name": "stdout",
          "text": [
            "Found 3504 files belonging to 18 classes.\n"
          ]
        }
      ],
      "source": [
        "training_set = tf.keras.utils.image_dataset_from_directory(\n",
        "    '/content/drive/MyDrive/Dataset/train',\n",
        "    labels=\"inferred\",\n",
        "    label_mode=\"categorical\",\n",
        "    class_names=None,\n",
        "    color_mode=\"rgb\",\n",
        "    batch_size=16,\n",
        "    image_size=(128, 128),\n",
        "    shuffle=True,\n",
        "    seed=None,\n",
        "    validation_split=None,\n",
        "    subset=None,\n",
        "    interpolation=\"bilinear\",\n",
        "    follow_links=False,\n",
        "    crop_to_aspect_ratio=False,\n",
        ")"
      ]
    },
    {
      "cell_type": "code",
      "execution_count": null,
      "id": "fe6fbae7",
      "metadata": {
        "id": "fe6fbae7",
        "outputId": "7f0c3e0b-da73-45e5-d2e6-492aa6a76a5c",
        "colab": {
          "base_uri": "https://localhost:8080/"
        }
      },
      "outputs": [
        {
          "output_type": "stream",
          "name": "stdout",
          "text": [
            "Found 1921 files belonging to 18 classes.\n"
          ]
        }
      ],
      "source": [
        "validation_set = tf.keras.utils.image_dataset_from_directory(\n",
        "    '/content/drive/MyDrive/Dataset/valid',\n",
        "    labels=\"inferred\",\n",
        "    label_mode=\"categorical\",\n",
        "    class_names=None,\n",
        "    color_mode=\"rgb\",\n",
        "    batch_size=32,\n",
        "    image_size=(128, 128),\n",
        "    shuffle=True,\n",
        "    seed=None,\n",
        "    validation_split=None,\n",
        "    subset=None,\n",
        "    interpolation=\"bilinear\",\n",
        "    follow_links=False,\n",
        "    crop_to_aspect_ratio=False,\n",
        ")"
      ]
    },
    {
      "cell_type": "code",
      "execution_count": null,
      "id": "8ea5ab42-a6ce-4007-8b69-72dafc201d9c",
      "metadata": {
        "id": "8ea5ab42-a6ce-4007-8b69-72dafc201d9c",
        "outputId": "8318d2bf-a614-4921-db91-7caa6a732766",
        "colab": {
          "base_uri": "https://localhost:8080/"
        }
      },
      "outputs": [
        {
          "output_type": "execute_result",
          "data": {
            "text/plain": [
              "<_PrefetchDataset element_spec=(TensorSpec(shape=(None, 128, 128, 3), dtype=tf.float32, name=None), TensorSpec(shape=(None, 18), dtype=tf.float32, name=None))>"
            ]
          },
          "metadata": {},
          "execution_count": 5
        }
      ],
      "source": [
        "training_set"
      ]
    },
    {
      "cell_type": "code",
      "execution_count": null,
      "id": "be884c35-3663-47be-b47d-39cff50f2b64",
      "metadata": {
        "id": "be884c35-3663-47be-b47d-39cff50f2b64",
        "outputId": "a24e46c3-fdc6-4bf8-b095-0423d6010ace",
        "colab": {
          "base_uri": "https://localhost:8080/"
        }
      },
      "outputs": [
        {
          "output_type": "stream",
          "name": "stdout",
          "text": [
            "tf.Tensor(\n",
            "[[[[182.25 177.25 174.25]\n",
            "   [181.5  176.5  173.5 ]\n",
            "   [179.5  174.5  171.5 ]\n",
            "   ...\n",
            "   [191.75 186.75 190.75]\n",
            "   [190.75 185.75 189.75]\n",
            "   [192.5  187.5  191.5 ]]\n",
            "\n",
            "  [[181.   176.   173.  ]\n",
            "   [181.25 176.25 173.25]\n",
            "   [183.   178.   175.  ]\n",
            "   ...\n",
            "   [190.   185.   189.  ]\n",
            "   [189.5  184.5  188.5 ]\n",
            "   [189.75 184.75 188.75]]\n",
            "\n",
            "  [[182.25 177.25 174.25]\n",
            "   [182.25 177.25 174.25]\n",
            "   [186.75 181.75 178.75]\n",
            "   ...\n",
            "   [190.25 185.25 189.25]\n",
            "   [189.25 184.25 188.25]\n",
            "   [188.   183.   187.  ]]\n",
            "\n",
            "  ...\n",
            "\n",
            "  [[173.   165.   163.  ]\n",
            "   [174.25 166.25 164.25]\n",
            "   [171.25 163.25 161.25]\n",
            "   ...\n",
            "   [174.5  168.5  172.5 ]\n",
            "   [177.25 171.25 175.25]\n",
            "   [175.   169.   173.  ]]\n",
            "\n",
            "  [[165.75 157.75 155.75]\n",
            "   [180.75 172.75 170.75]\n",
            "   [172.5  164.5  162.5 ]\n",
            "   ...\n",
            "   [176.75 170.75 174.75]\n",
            "   [179.75 173.75 177.75]\n",
            "   [165.   159.   163.  ]]\n",
            "\n",
            "  [[165.25 157.25 155.25]\n",
            "   [167.5  159.5  157.5 ]\n",
            "   [165.   157.   155.  ]\n",
            "   ...\n",
            "   [165.5  159.5  163.5 ]\n",
            "   [167.5  161.5  165.5 ]\n",
            "   [175.5  169.5  173.5 ]]]\n",
            "\n",
            "\n",
            " [[[188.   192.   193.  ]\n",
            "   [182.25 186.25 187.25]\n",
            "   [175.5  179.5  180.5 ]\n",
            "   ...\n",
            "   [163.   167.   166.  ]\n",
            "   [159.25 163.25 162.25]\n",
            "   [154.75 158.75 157.75]]\n",
            "\n",
            "  [[175.25 179.25 180.25]\n",
            "   [179.   183.   184.  ]\n",
            "   [174.5  178.5  179.5 ]\n",
            "   ...\n",
            "   [161.75 165.75 164.75]\n",
            "   [159.25 163.25 162.25]\n",
            "   [156.75 160.75 159.75]]\n",
            "\n",
            "  [[178.25 182.25 183.25]\n",
            "   [174.75 178.75 179.75]\n",
            "   [168.5  172.5  173.5 ]\n",
            "   ...\n",
            "   [156.5  160.5  159.5 ]\n",
            "   [156.   160.   159.  ]\n",
            "   [156.25 160.25 159.25]]\n",
            "\n",
            "  ...\n",
            "\n",
            "  [[117.   117.   119.  ]\n",
            "   [111.75 111.75 113.75]\n",
            "   [118.5  118.5  120.5 ]\n",
            "   ...\n",
            "   [ 98.25 102.25 103.25]\n",
            "   [102.25 106.25 107.25]\n",
            "   [ 96.25 100.25 101.25]]\n",
            "\n",
            "  [[113.   113.   115.  ]\n",
            "   [107.5  107.5  109.5 ]\n",
            "   [115.75 115.75 117.75]\n",
            "   ...\n",
            "   [103.   107.   108.  ]\n",
            "   [ 94.25  98.25  99.25]\n",
            "   [103.5  107.5  108.5 ]]\n",
            "\n",
            "  [[114.   114.   116.  ]\n",
            "   [108.   108.   110.  ]\n",
            "   [116.   116.   118.  ]\n",
            "   ...\n",
            "   [101.   105.   106.  ]\n",
            "   [107.5  111.5  112.5 ]\n",
            "   [110.   114.   115.  ]]]\n",
            "\n",
            "\n",
            " [[[170.25 156.25 155.25]\n",
            "   [169.75 155.75 154.75]\n",
            "   [164.25 150.25 149.25]\n",
            "   ...\n",
            "   [165.   153.   153.  ]\n",
            "   [159.25 147.25 147.25]\n",
            "   [161.75 149.75 149.75]]\n",
            "\n",
            "  [[161.25 147.25 146.25]\n",
            "   [168.   154.   153.  ]\n",
            "   [170.75 156.75 155.75]\n",
            "   ...\n",
            "   [163.5  151.5  151.5 ]\n",
            "   [164.5  152.5  152.5 ]\n",
            "   [159.5  147.5  147.5 ]]\n",
            "\n",
            "  [[166.25 152.25 151.25]\n",
            "   [161.75 147.75 146.75]\n",
            "   [162.25 148.25 147.25]\n",
            "   ...\n",
            "   [163.25 151.25 151.25]\n",
            "   [164.75 152.75 152.75]\n",
            "   [157.75 145.75 145.75]]\n",
            "\n",
            "  ...\n",
            "\n",
            "  [[ 65.5   61.5   62.5 ]\n",
            "   [ 75.25  69.25  71.25]\n",
            "   [ 74.5   68.5   70.5 ]\n",
            "   ...\n",
            "   [181.5  172.5  177.5 ]\n",
            "   [156.25 147.25 152.25]\n",
            "   [185.25 176.25 181.25]]\n",
            "\n",
            "  [[ 74.    70.    71.  ]\n",
            "   [ 76.5   70.5   72.5 ]\n",
            "   [ 83.    77.    79.  ]\n",
            "   ...\n",
            "   [175.   166.   171.  ]\n",
            "   [176.   167.   172.  ]\n",
            "   [186.75 177.75 182.75]]\n",
            "\n",
            "  [[ 71.    67.    68.  ]\n",
            "   [ 68.5   62.5   64.5 ]\n",
            "   [ 95.75  89.75  91.75]\n",
            "   ...\n",
            "   [165.   156.   161.  ]\n",
            "   [190.5  181.5  186.5 ]\n",
            "   [179.   170.   175.  ]]]\n",
            "\n",
            "\n",
            " ...\n",
            "\n",
            "\n",
            " [[[  0.     0.     0.  ]\n",
            "   [  0.     0.     0.  ]\n",
            "   [  0.     0.     0.  ]\n",
            "   ...\n",
            "   [  0.     0.     0.  ]\n",
            "   [  0.     0.     0.  ]\n",
            "   [  0.     0.     0.  ]]\n",
            "\n",
            "  [[  0.     0.     0.  ]\n",
            "   [  0.     0.     0.  ]\n",
            "   [  0.     0.     0.  ]\n",
            "   ...\n",
            "   [  0.     0.     0.  ]\n",
            "   [  0.     0.     0.  ]\n",
            "   [  0.     0.     0.  ]]\n",
            "\n",
            "  [[  0.     0.     0.  ]\n",
            "   [  0.     0.     0.  ]\n",
            "   [  0.     0.     0.  ]\n",
            "   ...\n",
            "   [  0.     0.     0.  ]\n",
            "   [  0.     0.     0.  ]\n",
            "   [  0.     0.     0.  ]]\n",
            "\n",
            "  ...\n",
            "\n",
            "  [[  0.     0.     0.  ]\n",
            "   [  0.     0.     0.  ]\n",
            "   [  0.     0.     0.  ]\n",
            "   ...\n",
            "   [  0.     0.     0.  ]\n",
            "   [  0.     0.     0.  ]\n",
            "   [  0.     0.     0.  ]]\n",
            "\n",
            "  [[  0.     0.     0.  ]\n",
            "   [  0.     0.     0.  ]\n",
            "   [  0.     0.     0.  ]\n",
            "   ...\n",
            "   [  0.     0.     0.  ]\n",
            "   [  0.     0.     0.  ]\n",
            "   [  0.     0.     0.  ]]\n",
            "\n",
            "  [[  0.     0.     0.  ]\n",
            "   [  0.     0.     0.  ]\n",
            "   [  0.     0.     0.  ]\n",
            "   ...\n",
            "   [  0.     0.     0.  ]\n",
            "   [  0.     0.     0.  ]\n",
            "   [  0.     0.     0.  ]]]\n",
            "\n",
            "\n",
            " [[[108.25 106.25 120.25]\n",
            "   [129.75 127.75 141.75]\n",
            "   [123.5  121.5  135.5 ]\n",
            "   ...\n",
            "   [178.5  182.5  194.5 ]\n",
            "   [173.   177.   189.  ]\n",
            "   [168.25 172.25 184.25]]\n",
            "\n",
            "  [[110.25 108.25 122.25]\n",
            "   [131.5  129.5  143.5 ]\n",
            "   [132.75 130.75 144.75]\n",
            "   ...\n",
            "   [182.   186.   198.  ]\n",
            "   [179.   183.   195.  ]\n",
            "   [180.5  184.5  196.5 ]]\n",
            "\n",
            "  [[135.25 133.25 147.25]\n",
            "   [129.5  127.5  141.5 ]\n",
            "   [132.5  130.5  144.5 ]\n",
            "   ...\n",
            "   [183.   187.   199.  ]\n",
            "   [181.75 185.75 197.75]\n",
            "   [179.   183.   195.  ]]\n",
            "\n",
            "  ...\n",
            "\n",
            "  [[ 96.    94.   108.  ]\n",
            "   [ 82.25  80.25  94.25]\n",
            "   [102.5  100.5  114.5 ]\n",
            "   ...\n",
            "   [132.5  133.5  151.5 ]\n",
            "   [142.   143.   161.  ]\n",
            "   [143.   144.   162.  ]]\n",
            "\n",
            "  [[105.5  103.5  117.5 ]\n",
            "   [102.75 100.75 114.75]\n",
            "   [100.5   98.5  112.5 ]\n",
            "   ...\n",
            "   [135.75 136.75 154.75]\n",
            "   [144.5  145.5  163.5 ]\n",
            "   [135.5  136.5  154.5 ]]\n",
            "\n",
            "  [[ 97.25  95.25 109.25]\n",
            "   [ 98.    96.   110.  ]\n",
            "   [ 87.25  85.25  99.25]\n",
            "   ...\n",
            "   [137.5  138.5  156.5 ]\n",
            "   [141.75 142.75 160.75]\n",
            "   [139.25 140.25 158.25]]]\n",
            "\n",
            "\n",
            " [[[  0.     0.     0.  ]\n",
            "   [  0.     0.     0.  ]\n",
            "   [  0.     0.     0.  ]\n",
            "   ...\n",
            "   [  0.     0.     0.  ]\n",
            "   [  0.     0.     0.  ]\n",
            "   [  0.     0.     0.  ]]\n",
            "\n",
            "  [[  0.     0.     0.  ]\n",
            "   [  0.     0.     0.  ]\n",
            "   [  0.     0.     0.  ]\n",
            "   ...\n",
            "   [  0.     0.     0.  ]\n",
            "   [  0.     0.     0.  ]\n",
            "   [  0.     0.     0.  ]]\n",
            "\n",
            "  [[  0.     0.     0.  ]\n",
            "   [  0.     0.     0.  ]\n",
            "   [  0.     0.     0.  ]\n",
            "   ...\n",
            "   [  0.     0.     0.  ]\n",
            "   [  0.     0.     0.  ]\n",
            "   [  0.     0.     0.  ]]\n",
            "\n",
            "  ...\n",
            "\n",
            "  [[  0.     0.     0.  ]\n",
            "   [  0.     0.     0.  ]\n",
            "   [  0.     0.     0.  ]\n",
            "   ...\n",
            "   [  0.     0.     0.  ]\n",
            "   [  0.     0.     0.  ]\n",
            "   [  0.     0.     0.  ]]\n",
            "\n",
            "  [[  0.     0.     0.  ]\n",
            "   [  0.     0.     0.  ]\n",
            "   [  0.     0.     0.  ]\n",
            "   ...\n",
            "   [  0.     0.     0.  ]\n",
            "   [  0.     0.     0.  ]\n",
            "   [  0.     0.     0.  ]]\n",
            "\n",
            "  [[  0.     0.     0.  ]\n",
            "   [  0.     0.     0.  ]\n",
            "   [  0.     0.     0.  ]\n",
            "   ...\n",
            "   [  0.     0.     0.  ]\n",
            "   [  0.     0.     0.  ]\n",
            "   [  0.     0.     0.  ]]]], shape=(16, 128, 128, 3), dtype=float32) (16, 128, 128, 3)\n",
            "tf.Tensor(\n",
            "[[0. 0. 0. 0. 0. 0. 0. 1. 0. 0. 0. 0. 0. 0. 0. 0. 0. 0.]\n",
            " [0. 0. 0. 0. 0. 1. 0. 0. 0. 0. 0. 0. 0. 0. 0. 0. 0. 0.]\n",
            " [0. 0. 0. 0. 0. 0. 0. 0. 0. 0. 0. 0. 1. 0. 0. 0. 0. 0.]\n",
            " [0. 0. 0. 0. 0. 0. 0. 0. 0. 0. 0. 1. 0. 0. 0. 0. 0. 0.]\n",
            " [0. 0. 0. 0. 0. 0. 1. 0. 0. 0. 0. 0. 0. 0. 0. 0. 0. 0.]\n",
            " [0. 0. 0. 0. 0. 0. 1. 0. 0. 0. 0. 0. 0. 0. 0. 0. 0. 0.]\n",
            " [0. 0. 0. 0. 0. 0. 0. 0. 0. 0. 0. 0. 1. 0. 0. 0. 0. 0.]\n",
            " [0. 0. 0. 0. 0. 0. 1. 0. 0. 0. 0. 0. 0. 0. 0. 0. 0. 0.]\n",
            " [0. 0. 0. 0. 0. 0. 0. 0. 0. 0. 0. 0. 0. 0. 0. 1. 0. 0.]\n",
            " [0. 0. 0. 0. 0. 0. 0. 0. 0. 0. 0. 0. 0. 0. 0. 1. 0. 0.]\n",
            " [0. 1. 0. 0. 0. 0. 0. 0. 0. 0. 0. 0. 0. 0. 0. 0. 0. 0.]\n",
            " [0. 0. 0. 0. 0. 0. 0. 0. 0. 0. 0. 0. 0. 1. 0. 0. 0. 0.]\n",
            " [0. 0. 0. 0. 0. 0. 0. 0. 0. 0. 0. 0. 1. 0. 0. 0. 0. 0.]\n",
            " [0. 0. 0. 0. 0. 0. 0. 1. 0. 0. 0. 0. 0. 0. 0. 0. 0. 0.]\n",
            " [0. 0. 0. 0. 0. 0. 0. 0. 0. 1. 0. 0. 0. 0. 0. 0. 0. 0.]\n",
            " [0. 0. 0. 0. 0. 0. 0. 0. 0. 0. 0. 1. 0. 0. 0. 0. 0. 0.]], shape=(16, 18), dtype=float32) (16, 18)\n"
          ]
        }
      ],
      "source": [
        "for x,y in training_set:\n",
        "    print(x,x.shape)\n",
        "    print(y,y.shape)\n",
        "    break"
      ]
    },
    {
      "cell_type": "code",
      "execution_count": null,
      "id": "74828a4e-0018-48ce-90ff-19b79b3fda7e",
      "metadata": {
        "scrolled": true,
        "id": "74828a4e-0018-48ce-90ff-19b79b3fda7e"
      },
      "outputs": [],
      "source": []
    },
    {
      "cell_type": "markdown",
      "id": "b344f13f-2ce1-4afb-aa33-7f2849158387",
      "metadata": {
        "id": "b344f13f-2ce1-4afb-aa33-7f2849158387"
      },
      "source": [
        "### Bullding Model"
      ]
    },
    {
      "cell_type": "code",
      "execution_count": null,
      "id": "2d037c2e-d9ea-44c0-bf25-01070b5bbbcd",
      "metadata": {
        "id": "2d037c2e-d9ea-44c0-bf25-01070b5bbbcd"
      },
      "outputs": [],
      "source": [
        "from tensorflow.keras.layers import Dense,Conv2D,MaxPool2D,Flatten,Dropout\n",
        "from tensorflow.keras.models import Sequential"
      ]
    },
    {
      "cell_type": "code",
      "execution_count": null,
      "id": "14fb5093-1806-45b9-a96c-4374f9b21d35",
      "metadata": {
        "id": "14fb5093-1806-45b9-a96c-4374f9b21d35"
      },
      "outputs": [],
      "source": []
    },
    {
      "cell_type": "code",
      "execution_count": null,
      "id": "ca1517a7-3878-41db-babb-51d4cb241e8e",
      "metadata": {
        "id": "ca1517a7-3878-41db-babb-51d4cb241e8e"
      },
      "outputs": [],
      "source": [
        "model = Sequential()"
      ]
    },
    {
      "cell_type": "code",
      "execution_count": null,
      "id": "249ef8e6-46b8-4527-a02e-76119f672c58",
      "metadata": {
        "id": "249ef8e6-46b8-4527-a02e-76119f672c58"
      },
      "outputs": [],
      "source": [
        "##Building Convolutional layer"
      ]
    },
    {
      "cell_type": "code",
      "execution_count": null,
      "id": "5f730e84-e517-4158-bfd3-37236f5300fc",
      "metadata": {
        "id": "5f730e84-e517-4158-bfd3-37236f5300fc"
      },
      "outputs": [],
      "source": [
        "model.add(Conv2D(filters=32,kernel_size=3,padding='same',activation='relu',input_shape=[128,128,3]))\n",
        "model.add(Conv2D(filters=32,kernel_size=3,activation='relu'))\n",
        "model.add(MaxPool2D(pool_size=2,strides=2))\n"
      ]
    },
    {
      "cell_type": "code",
      "execution_count": null,
      "id": "aa6395b2-982b-46cd-842b-d4cdb5c53017",
      "metadata": {
        "id": "aa6395b2-982b-46cd-842b-d4cdb5c53017"
      },
      "outputs": [],
      "source": [
        "model.add(Conv2D(filters=64,kernel_size=3,padding='same',activation='relu'))\n",
        "model.add(Conv2D(filters=64,kernel_size=3,activation='relu'))\n",
        "model.add(MaxPool2D(pool_size=2,strides=2))\n"
      ]
    },
    {
      "cell_type": "code",
      "execution_count": null,
      "id": "5c5c5572-b801-46a1-9f25-1d0accab0461",
      "metadata": {
        "id": "5c5c5572-b801-46a1-9f25-1d0accab0461"
      },
      "outputs": [],
      "source": [
        "model.add(Conv2D(filters=128,kernel_size=3,padding='same',activation='relu'))\n",
        "model.add(Conv2D(filters=128,kernel_size=3,activation='relu'))\n",
        "model.add(MaxPool2D(pool_size=2,strides=2))\n"
      ]
    },
    {
      "cell_type": "code",
      "execution_count": null,
      "id": "3740dc68-70a1-4380-9823-aab23caf9bb0",
      "metadata": {
        "id": "3740dc68-70a1-4380-9823-aab23caf9bb0"
      },
      "outputs": [],
      "source": [
        "model.add(Conv2D(filters=256,kernel_size=3,padding='same',activation='relu'))\n",
        "model.add(Conv2D(filters=256,kernel_size=3,activation='relu'))\n",
        "model.add(MaxPool2D(pool_size=2,strides=2))\n"
      ]
    },
    {
      "cell_type": "code",
      "execution_count": null,
      "id": "ad514889-b010-4fc0-bb98-9a07ea2e0cb7",
      "metadata": {
        "id": "ad514889-b010-4fc0-bb98-9a07ea2e0cb7"
      },
      "outputs": [],
      "source": [
        "model.add(Conv2D(filters=512,kernel_size=3,padding='same',activation='relu'))\n",
        "model.add(Conv2D(filters=512,kernel_size=3,activation='relu'))\n",
        "model.add(MaxPool2D(pool_size=2,strides=2))\n"
      ]
    },
    {
      "cell_type": "code",
      "execution_count": null,
      "id": "5a259059-3081-4bec-90f9-bc37630fb9ab",
      "metadata": {
        "id": "5a259059-3081-4bec-90f9-bc37630fb9ab"
      },
      "outputs": [],
      "source": [
        "model.add(Dropout(0.25))  ## to avoid overfitting\n"
      ]
    },
    {
      "cell_type": "code",
      "execution_count": null,
      "id": "a8614252-5c9e-4182-aa4a-dfa36e0587d7",
      "metadata": {
        "id": "a8614252-5c9e-4182-aa4a-dfa36e0587d7"
      },
      "outputs": [],
      "source": [
        "model.add(Flatten())\n"
      ]
    },
    {
      "cell_type": "code",
      "execution_count": null,
      "id": "27369f6f-3000-4210-8a80-951d71f342c0",
      "metadata": {
        "id": "27369f6f-3000-4210-8a80-951d71f342c0"
      },
      "outputs": [],
      "source": [
        "model.add(Dense(units=1500,activation='relu'))"
      ]
    },
    {
      "cell_type": "code",
      "execution_count": null,
      "id": "85c7b54f-728a-4c8f-af74-07b1d9ba13a2",
      "metadata": {
        "id": "85c7b54f-728a-4c8f-af74-07b1d9ba13a2"
      },
      "outputs": [],
      "source": [
        "model.add(Dropout(0.4))\n"
      ]
    },
    {
      "cell_type": "code",
      "execution_count": null,
      "id": "7934e443-ebc5-4165-90f1-8dd224893adf",
      "metadata": {
        "id": "7934e443-ebc5-4165-90f1-8dd224893adf"
      },
      "outputs": [],
      "source": [
        "#Output laye\n",
        "model.add(Dense(units=18,activation='softmax'))"
      ]
    },
    {
      "cell_type": "markdown",
      "id": "77987fb8-20fb-4fb1-9588-df293306eddd",
      "metadata": {
        "id": "77987fb8-20fb-4fb1-9588-df293306eddd"
      },
      "source": [
        "### Compiling Model"
      ]
    },
    {
      "cell_type": "code",
      "source": [],
      "metadata": {
        "id": "4j142EnDVvsE"
      },
      "id": "4j142EnDVvsE",
      "execution_count": null,
      "outputs": []
    },
    {
      "cell_type": "code",
      "execution_count": null,
      "id": "8b82e586-2f01-45f7-919c-617b886a72de",
      "metadata": {
        "id": "8b82e586-2f01-45f7-919c-617b886a72de"
      },
      "outputs": [],
      "source": [
        "model.compile(optimizer=tf.keras.optimizers.legacy.Adam(\n",
        "    learning_rate=0.0001),loss='categorical_crossentropy',metrics=['accuracy'])"
      ]
    },
    {
      "cell_type": "code",
      "execution_count": null,
      "id": "83cbe3ef-b023-4dfd-a63c-0e3cd6acc72b",
      "metadata": {
        "scrolled": true,
        "id": "83cbe3ef-b023-4dfd-a63c-0e3cd6acc72b",
        "outputId": "9308ad0d-7a47-40ff-d21f-4e574bc09ecd",
        "colab": {
          "base_uri": "https://localhost:8080/"
        }
      },
      "outputs": [
        {
          "output_type": "stream",
          "name": "stdout",
          "text": [
            "Model: \"sequential\"\n",
            "_________________________________________________________________\n",
            " Layer (type)                Output Shape              Param #   \n",
            "=================================================================\n",
            " conv2d (Conv2D)             (None, 128, 128, 32)      896       \n",
            "                                                                 \n",
            " conv2d_1 (Conv2D)           (None, 126, 126, 32)      9248      \n",
            "                                                                 \n",
            " max_pooling2d (MaxPooling2  (None, 63, 63, 32)        0         \n",
            " D)                                                              \n",
            "                                                                 \n",
            " conv2d_2 (Conv2D)           (None, 63, 63, 64)        18496     \n",
            "                                                                 \n",
            " conv2d_3 (Conv2D)           (None, 61, 61, 64)        36928     \n",
            "                                                                 \n",
            " max_pooling2d_1 (MaxPoolin  (None, 30, 30, 64)        0         \n",
            " g2D)                                                            \n",
            "                                                                 \n",
            " conv2d_4 (Conv2D)           (None, 30, 30, 128)       73856     \n",
            "                                                                 \n",
            " conv2d_5 (Conv2D)           (None, 28, 28, 128)       147584    \n",
            "                                                                 \n",
            " max_pooling2d_2 (MaxPoolin  (None, 14, 14, 128)       0         \n",
            " g2D)                                                            \n",
            "                                                                 \n",
            " conv2d_6 (Conv2D)           (None, 14, 14, 256)       295168    \n",
            "                                                                 \n",
            " conv2d_7 (Conv2D)           (None, 12, 12, 256)       590080    \n",
            "                                                                 \n",
            " max_pooling2d_3 (MaxPoolin  (None, 6, 6, 256)         0         \n",
            " g2D)                                                            \n",
            "                                                                 \n",
            " conv2d_8 (Conv2D)           (None, 6, 6, 512)         1180160   \n",
            "                                                                 \n",
            " conv2d_9 (Conv2D)           (None, 4, 4, 512)         2359808   \n",
            "                                                                 \n",
            " max_pooling2d_4 (MaxPoolin  (None, 2, 2, 512)         0         \n",
            " g2D)                                                            \n",
            "                                                                 \n",
            " dropout (Dropout)           (None, 2, 2, 512)         0         \n",
            "                                                                 \n",
            " flatten (Flatten)           (None, 2048)              0         \n",
            "                                                                 \n",
            " dense (Dense)               (None, 1500)              3073500   \n",
            "                                                                 \n",
            " dropout_1 (Dropout)         (None, 1500)              0         \n",
            "                                                                 \n",
            " dense_1 (Dense)             (None, 18)                27018     \n",
            "                                                                 \n",
            "=================================================================\n",
            "Total params: 7812742 (29.80 MB)\n",
            "Trainable params: 7812742 (29.80 MB)\n",
            "Non-trainable params: 0 (0.00 Byte)\n",
            "_________________________________________________________________\n"
          ]
        }
      ],
      "source": [
        "model.summary()"
      ]
    },
    {
      "cell_type": "markdown",
      "id": "153cdbe7-1775-451b-8508-4a39f9a344bb",
      "metadata": {
        "id": "153cdbe7-1775-451b-8508-4a39f9a344bb"
      },
      "source": [
        "### Model Training"
      ]
    },
    {
      "cell_type": "code",
      "execution_count": null,
      "id": "3a559ac1-cde4-49b6-b9d1-b9325313bb1a",
      "metadata": {
        "id": "3a559ac1-cde4-49b6-b9d1-b9325313bb1a",
        "outputId": "97cbd86e-6a01-4265-dc25-9bcd92f0881d",
        "colab": {
          "base_uri": "https://localhost:8080/"
        }
      },
      "outputs": [
        {
          "output_type": "stream",
          "name": "stdout",
          "text": [
            "Epoch 1/10\n",
            "219/219 [==============================] - 1019s 5s/step - loss: 2.4098 - accuracy: 0.2255 - val_loss: 2.1821 - val_accuracy: 0.3050\n",
            "Epoch 2/10\n",
            "219/219 [==============================] - 19s 83ms/step - loss: 1.5138 - accuracy: 0.5077 - val_loss: 1.0831 - val_accuracy: 0.6543\n",
            "Epoch 3/10\n",
            "219/219 [==============================] - 18s 83ms/step - loss: 0.9797 - accuracy: 0.6689 - val_loss: 0.8028 - val_accuracy: 0.7288\n",
            "Epoch 4/10\n",
            "219/219 [==============================] - 20s 88ms/step - loss: 0.7209 - accuracy: 0.7588 - val_loss: 0.6048 - val_accuracy: 0.7975\n",
            "Epoch 5/10\n",
            "219/219 [==============================] - 19s 84ms/step - loss: 0.5469 - accuracy: 0.8193 - val_loss: 0.5409 - val_accuracy: 0.8329\n",
            "Epoch 6/10\n",
            "219/219 [==============================] - 21s 93ms/step - loss: 0.4374 - accuracy: 0.8442 - val_loss: 0.6267 - val_accuracy: 0.7939\n",
            "Epoch 7/10\n",
            "219/219 [==============================] - 18s 81ms/step - loss: 0.3327 - accuracy: 0.8878 - val_loss: 0.9198 - val_accuracy: 0.7496\n",
            "Epoch 8/10\n",
            "219/219 [==============================] - 23s 105ms/step - loss: 0.3174 - accuracy: 0.8907 - val_loss: 0.3536 - val_accuracy: 0.8870\n",
            "Epoch 9/10\n",
            "219/219 [==============================] - 19s 83ms/step - loss: 0.2405 - accuracy: 0.9164 - val_loss: 0.3267 - val_accuracy: 0.8902\n",
            "Epoch 10/10\n",
            "219/219 [==============================] - 18s 80ms/step - loss: 0.2253 - accuracy: 0.9215 - val_loss: 0.3203 - val_accuracy: 0.8933\n"
          ]
        }
      ],
      "source": [
        "training_history = model.fit(x=training_set,validation_data=validation_set,epochs=10)"
      ]
    },
    {
      "cell_type": "markdown",
      "id": "18c96332-3198-477b-9d7c-4fd0407c4ad7",
      "metadata": {
        "id": "18c96332-3198-477b-9d7c-4fd0407c4ad7"
      },
      "source": [
        "## Model Evaluation"
      ]
    },
    {
      "cell_type": "code",
      "execution_count": null,
      "id": "f5f91327-76ac-4b83-9aaf-a2b1cd76098d",
      "metadata": {
        "id": "f5f91327-76ac-4b83-9aaf-a2b1cd76098d",
        "outputId": "6037a2dd-8cdc-4c4a-c3fc-be347ab44ec7",
        "colab": {
          "base_uri": "https://localhost:8080/"
        }
      },
      "outputs": [
        {
          "output_type": "stream",
          "name": "stdout",
          "text": [
            "219/219 [==============================] - 11s 50ms/step - loss: 0.0630 - accuracy: 0.9814\n"
          ]
        }
      ],
      "source": [
        "#Model evaluation on training set\n",
        "train_loss,train_acc = model.evaluate(training_set)"
      ]
    },
    {
      "cell_type": "code",
      "execution_count": null,
      "id": "786b52ab-23fd-4a16-ba2e-0d4e8a9f78f2",
      "metadata": {
        "id": "786b52ab-23fd-4a16-ba2e-0d4e8a9f78f2",
        "outputId": "652a135f-0db3-4302-f00b-90c366835865",
        "colab": {
          "base_uri": "https://localhost:8080/"
        }
      },
      "outputs": [
        {
          "output_type": "stream",
          "name": "stdout",
          "text": [
            "0.06297997385263443 0.9814497828483582\n"
          ]
        }
      ],
      "source": [
        "print(train_loss,train_acc)"
      ]
    },
    {
      "cell_type": "code",
      "execution_count": null,
      "id": "b2daf69d-c798-4c5a-8167-d8323b8478c0",
      "metadata": {
        "id": "b2daf69d-c798-4c5a-8167-d8323b8478c0",
        "outputId": "2122095c-1933-43e7-c244-d3a05088a6b9",
        "colab": {
          "base_uri": "https://localhost:8080/"
        }
      },
      "outputs": [
        {
          "output_type": "stream",
          "name": "stdout",
          "text": [
            "61/61 [==============================] - 7s 98ms/step - loss: 0.3203 - accuracy: 0.8933\n"
          ]
        }
      ],
      "source": [
        "#modelon validation set\n",
        "val_loss,val_acc = model.evaluate(validation_set)"
      ]
    },
    {
      "cell_type": "code",
      "execution_count": null,
      "id": "7def7f08-b1c8-4099-a7ba-90679cc748a6",
      "metadata": {
        "id": "7def7f08-b1c8-4099-a7ba-90679cc748a6",
        "outputId": "a42d7b34-a24e-4905-a174-f1ed1e930453",
        "colab": {
          "base_uri": "https://localhost:8080/"
        }
      },
      "outputs": [
        {
          "output_type": "stream",
          "name": "stdout",
          "text": [
            "0.32027730345726013 0.8932847380638123\n"
          ]
        }
      ],
      "source": [
        "print(val_loss,val_acc)"
      ]
    },
    {
      "cell_type": "markdown",
      "id": "3fbc1b94-2226-46d2-8a20-02fb07205b7a",
      "metadata": {
        "id": "3fbc1b94-2226-46d2-8a20-02fb07205b7a"
      },
      "source": [
        "## Saving Model"
      ]
    },
    {
      "cell_type": "code",
      "execution_count": null,
      "id": "5a3ea6d8-7159-4a1f-901e-b44229735f21",
      "metadata": {
        "id": "5a3ea6d8-7159-4a1f-901e-b44229735f21"
      },
      "outputs": [],
      "source": [
        "model.save(\"trained_model.keras\")"
      ]
    },
    {
      "cell_type": "code",
      "execution_count": null,
      "id": "d384dafc-7c52-4c42-ab63-5265b168c68f",
      "metadata": {
        "id": "d384dafc-7c52-4c42-ab63-5265b168c68f"
      },
      "outputs": [],
      "source": []
    },
    {
      "cell_type": "code",
      "execution_count": null,
      "id": "053741f5-76b5-4fa5-9a59-dc17b94038dc",
      "metadata": {
        "id": "053741f5-76b5-4fa5-9a59-dc17b94038dc"
      },
      "outputs": [],
      "source": []
    },
    {
      "cell_type": "code",
      "execution_count": null,
      "id": "dc95dc1a-9a75-4dd5-b435-4c3952d2e30c",
      "metadata": {
        "id": "dc95dc1a-9a75-4dd5-b435-4c3952d2e30c",
        "outputId": "d6b62ee9-71b9-4cc4-852d-3c281965254b",
        "colab": {
          "base_uri": "https://localhost:8080/"
        }
      },
      "outputs": [
        {
          "output_type": "execute_result",
          "data": {
            "text/plain": [
              "{'loss': [2.4098360538482666,\n",
              "  1.513841986656189,\n",
              "  0.979735791683197,\n",
              "  0.7208687663078308,\n",
              "  0.5468620657920837,\n",
              "  0.4373508393764496,\n",
              "  0.33272990584373474,\n",
              "  0.3173534572124481,\n",
              "  0.2404651790857315,\n",
              "  0.22532691061496735],\n",
              " 'accuracy': [0.2254566252231598,\n",
              "  0.5077054500579834,\n",
              "  0.6689497828483582,\n",
              "  0.7588470578193665,\n",
              "  0.8193492889404297,\n",
              "  0.8441780805587769,\n",
              "  0.8878424763679504,\n",
              "  0.8906963467597961,\n",
              "  0.916381299495697,\n",
              "  0.9215182662010193],\n",
              " 'val_loss': [2.1821157932281494,\n",
              "  1.0831434726715088,\n",
              "  0.8028191328048706,\n",
              "  0.6048212647438049,\n",
              "  0.5408626198768616,\n",
              "  0.6266533136367798,\n",
              "  0.9197730422019958,\n",
              "  0.35358819365501404,\n",
              "  0.3266643285751343,\n",
              "  0.3202773332595825],\n",
              " 'val_accuracy': [0.30504944920539856,\n",
              "  0.6543467044830322,\n",
              "  0.7287870645523071,\n",
              "  0.7975013256072998,\n",
              "  0.8328995108604431,\n",
              "  0.7938573956489563,\n",
              "  0.7496095895767212,\n",
              "  0.887037992477417,\n",
              "  0.890161395072937,\n",
              "  0.8932847380638123]}"
            ]
          },
          "metadata": {},
          "execution_count": 28
        }
      ],
      "source": [
        "training_history.history"
      ]
    },
    {
      "cell_type": "code",
      "execution_count": null,
      "id": "9db5c507-e018-4faa-a02c-72111f10d501",
      "metadata": {
        "id": "9db5c507-e018-4faa-a02c-72111f10d501"
      },
      "outputs": [],
      "source": [
        "#Recording History in json\n",
        "import json\n",
        "with open(\"training_hist.json\",\"w\") as f:\n",
        "    json.dump(training_history.history,f)"
      ]
    },
    {
      "cell_type": "code",
      "execution_count": null,
      "id": "97f979e7-2bbc-4a49-a725-5d59c913b1ed",
      "metadata": {
        "id": "97f979e7-2bbc-4a49-a725-5d59c913b1ed",
        "outputId": "b61e93c2-26ea-47dc-85bf-0e5b18da5201",
        "colab": {
          "base_uri": "https://localhost:8080/"
        }
      },
      "outputs": [
        {
          "output_type": "execute_result",
          "data": {
            "text/plain": [
              "[0.2254566252231598,\n",
              " 0.5077054500579834,\n",
              " 0.6689497828483582,\n",
              " 0.7588470578193665,\n",
              " 0.8193492889404297,\n",
              " 0.8441780805587769,\n",
              " 0.8878424763679504,\n",
              " 0.8906963467597961,\n",
              " 0.916381299495697,\n",
              " 0.9215182662010193]"
            ]
          },
          "metadata": {},
          "execution_count": 30
        }
      ],
      "source": [
        "training_history.history['accuracy']"
      ]
    },
    {
      "cell_type": "markdown",
      "id": "61ba6230-dc02-4878-b54a-731e7add4257",
      "metadata": {
        "id": "61ba6230-dc02-4878-b54a-731e7add4257"
      },
      "source": [
        "### Accuracy Visualization"
      ]
    },
    {
      "cell_type": "code",
      "execution_count": null,
      "id": "4ec2c248-5468-4cc2-bd06-bd19d7a70f68",
      "metadata": {
        "id": "4ec2c248-5468-4cc2-bd06-bd19d7a70f68",
        "outputId": "be607541-b35a-4840-d988-0305aea2615f",
        "colab": {
          "base_uri": "https://localhost:8080/",
          "height": 472
        }
      },
      "outputs": [
        {
          "output_type": "display_data",
          "data": {
            "text/plain": [
              "<Figure size 640x480 with 1 Axes>"
            ],
            "image/png": "[encoded data removed]"
          },
          "metadata": {}
        }
      ],
      "source": [
        "epochs = [i for i in range(1,11)]\n",
        "plt.plot(epochs,training_history.history['accuracy'],color='red',label='Training Accuracy')\n",
        "plt.plot(epochs,training_history.history['val_accuracy'],color='blue',label='Validation Accuracy')\n",
        "plt.xlabel('No. of Epochs')\n",
        "plt.title('Visualization of Accuracy Result')\n",
        "plt.legend()\n",
        "plt.show()"
      ]
    },
    {
      "cell_type": "code",
      "execution_count": null,
      "id": "3bfa3a1a-cf5f-435f-8eaa-b9b11b0aac00",
      "metadata": {
        "id": "3bfa3a1a-cf5f-435f-8eaa-b9b11b0aac00"
      },
      "outputs": [],
      "source": [
        "#Some other metrics for model evaluation\n"
      ]
    },
    {
      "cell_type": "code",
      "execution_count": null,
      "id": "3896438b-5dc1-465d-80ec-29e5c9a6f4b8",
      "metadata": {
        "id": "3896438b-5dc1-465d-80ec-29e5c9a6f4b8"
      },
      "outputs": [],
      "source": [
        "class_name = validation_set.class_names\n"
      ]
    },
    {
      "cell_type": "code",
      "execution_count": null,
      "id": "01c9dab4-cea0-429a-a07f-e1237fb47a75",
      "metadata": {
        "id": "01c9dab4-cea0-429a-a07f-e1237fb47a75",
        "colab": {
          "base_uri": "https://localhost:8080/"
        },
        "outputId": "7daccf7e-a8f8-4b7d-90e2-6fa1d365979e"
      },
      "outputs": [
        {
          "output_type": "stream",
          "name": "stdout",
          "text": [
            "Found 1921 files belonging to 18 classes.\n"
          ]
        }
      ],
      "source": [
        "test_set = tf.keras.utils.image_dataset_from_directory(\n",
        "    '/content/drive/MyDrive/Dataset/valid',\n",
        "    labels=\"inferred\",\n",
        "    label_mode=\"categorical\",\n",
        "    class_names=None,\n",
        "    color_mode=\"rgb\",\n",
        "    batch_size=1,\n",
        "    image_size=(128, 128),\n",
        "    shuffle=False,\n",
        "    seed=None,\n",
        "    validation_split=None,\n",
        "    subset=None,\n",
        "    interpolation=\"bilinear\",\n",
        "    follow_links=False,\n",
        "    crop_to_aspect_ratio=False\n",
        ")"
      ]
    },
    {
      "cell_type": "code",
      "execution_count": null,
      "id": "a7dbd162-7c17-4b79-ba38-210874f1bb9b",
      "metadata": {
        "id": "a7dbd162-7c17-4b79-ba38-210874f1bb9b",
        "colab": {
          "base_uri": "https://localhost:8080/"
        },
        "outputId": "341ca166-b4ed-4ab8-f896-dedbe4a9337f"
      },
      "outputs": [
        {
          "output_type": "stream",
          "name": "stdout",
          "text": [
            "1921/1921 [==============================] - 10s 5ms/step\n"
          ]
        }
      ],
      "source": [
        "y_pred = model.predict(test_set)\n",
        "predicted_categories = tf.argmax(y_pred, axis=1)"
      ]
    },
    {
      "cell_type": "code",
      "execution_count": null,
      "id": "7d7f7d6f-2cd8-48b1-a931-acf36ba319b2",
      "metadata": {
        "id": "7d7f7d6f-2cd8-48b1-a931-acf36ba319b2"
      },
      "outputs": [],
      "source": [
        "true_categories = tf.concat([y for x, y in test_set], axis=0)\n",
        "Y_true = tf.argmax(true_categories, axis=1)"
      ]
    },
    {
      "cell_type": "code",
      "source": [
        "Y_true\n"
      ],
      "metadata": {
        "colab": {
          "base_uri": "https://localhost:8080/"
        },
        "id": "nRmvB8nil8PC",
        "outputId": "9b3e7436-b18a-4f10-b11a-2cb2225dd1f8"
      },
      "id": "nRmvB8nil8PC",
      "execution_count": null,
      "outputs": [
        {
          "output_type": "execute_result",
          "data": {
            "text/plain": [
              "<tf.Tensor: shape=(1921,), dtype=int64, numpy=array([ 0,  0,  0, ..., 17, 17, 17])>"
            ]
          },
          "metadata": {},
          "execution_count": 37
        }
      ]
    },
    {
      "cell_type": "code",
      "source": [
        "predicted_categories\n"
      ],
      "metadata": {
        "colab": {
          "base_uri": "https://localhost:8080/"
        },
        "id": "5CyLoJnGmBe_",
        "outputId": "4f6d7e22-a759-4aca-b41b-4f85db3b1d5a"
      },
      "id": "5CyLoJnGmBe_",
      "execution_count": null,
      "outputs": [
        {
          "output_type": "execute_result",
          "data": {
            "text/plain": [
              "<tf.Tensor: shape=(1921,), dtype=int64, numpy=array([12,  0,  0, ..., 17, 17, 17])>"
            ]
          },
          "metadata": {},
          "execution_count": 38
        }
      ]
    },
    {
      "cell_type": "code",
      "source": [
        "from sklearn.metrics import confusion_matrix,classification_report\n",
        "cm = confusion_matrix(Y_true,predicted_categories)"
      ],
      "metadata": {
        "id": "4ZVYam3amEcH"
      },
      "id": "4ZVYam3amEcH",
      "execution_count": null,
      "outputs": []
    },
    {
      "cell_type": "code",
      "source": [
        "# Precision Recall Fscore\n",
        "print(classification_report(Y_true,predicted_categories,target_names=class_name))"
      ],
      "metadata": {
        "colab": {
          "base_uri": "https://localhost:8080/"
        },
        "id": "l2AvBe86mHoD",
        "outputId": "8500a90d-acd5-43c5-c298-76179f69bd94"
      },
      "id": "l2AvBe86mHoD",
      "execution_count": null,
      "outputs": [
        {
          "output_type": "stream",
          "name": "stdout",
          "text": [
            "                                            precision    recall  f1-score   support\n",
            "\n",
            "                  Apple___Cedar_apple_rust       0.96      0.80      0.87       220\n",
            "                           Apple___healthy       0.95      0.75      0.84       134\n",
            "               Corn_(maize)___Common_rust_       0.99      0.95      0.97       131\n",
            "                    Corn_(maize)___healthy       0.98      0.98      0.98       125\n",
            "                         Grape___Black_rot       0.79      0.83      0.81        64\n",
            "              Grape___Esca_(Black_Measles)       0.87      0.93      0.90        56\n",
            "Grape___Leaf_blight_(Isariopsis_Leaf_Spot)       0.94      0.92      0.93       130\n",
            "                           Grape___healthy       0.88      0.95      0.92        63\n",
            "  Orange___Haunglongbing_(Citrus_greening)       0.86      0.96      0.91       131\n",
            "                     Potato___Early_blight       0.94      0.95      0.94        77\n",
            "                      Potato___Late_blight       0.85      0.93      0.89       101\n",
            "                          Potato___healthy       0.78      0.93      0.85        72\n",
            "                       Raspberry___healthy       0.92      0.94      0.93        81\n",
            "                         Soybean___healthy       0.89      0.89      0.89       157\n",
            "                   Tomato___Bacterial_spot       0.86      0.75      0.80        81\n",
            "                      Tomato___Target_Spot       0.70      0.96      0.81       117\n",
            "              Tomato___Tomato_mosaic_virus       0.98      0.95      0.96        96\n",
            "                          Tomato___healthy       0.92      0.81      0.86        85\n",
            "\n",
            "                                  accuracy                           0.89      1921\n",
            "                                 macro avg       0.89      0.90      0.89      1921\n",
            "                              weighted avg       0.90      0.89      0.89      1921\n",
            "\n"
          ]
        }
      ]
    },
    {
      "cell_type": "code",
      "source": [
        "plt.figure(figsize=(40, 40))\n",
        "sns.heatmap(cm,annot=True,annot_kws={\"size\": 10})\n",
        "\n",
        "plt.xlabel('Predicted Class',fontsize = 20)\n",
        "plt.ylabel('Actual Class',fontsize = 20)\n",
        "plt.title('Plant Disease Prediction Confusion Matrix',fontsize = 25)\n",
        "plt.show()"
      ],
      "metadata": {
        "colab": {
          "base_uri": "https://localhost:8080/",
          "height": 1000
        },
        "id": "uH662thFmJwu",
        "outputId": "098b12ed-d66b-464a-d41a-93e7c617faf1"
      },
      "id": "uH662thFmJwu",
      "execution_count": null,
      "outputs": [
        {
          "output_type": "display_data",
          "data": {
            "text/plain": [
              "<Figure size 4000x4000 with 2 Axes>"
            ],
            "image/png": "[encoded data removed]"
          },
          "metadata": {}
        }
      ]
    }
  ],
  "metadata": {
    "kernelspec": {
      "display_name": "Python 3",
      "name": "python3"
    },
    "language_info": {
      "codemirror_mode": {
        "name": "ipython",
        "version": 3
      },
      "file_extension": ".py",
      "mimetype": "text/x-python",
      "name": "python",
      "nbconvert_exporter": "python",
      "pygments_lexer": "ipython3",
      "version": "3.9.18"
    },
    "colab": {
      "provenance": [],
      "gpuType": "T4"
    },
    "accelerator": "GPU"
  },
  "nbformat": 4,
  "nbformat_minor": 5
}